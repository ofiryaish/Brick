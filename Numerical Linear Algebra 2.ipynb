{
 "cells": [
  {
   "cell_type": "code",
   "execution_count": 23,
   "metadata": {},
   "outputs": [],
   "source": [
    "import pickle\n",
    "import numpy as np\n",
    "import pandas as pd\n",
    "from sklearn.metrics import r2_score\n",
    "from scipy.stats.stats import pearsonr\n",
    "from sklearn.metrics import mean_squared_error\n",
    "from sklearn.metrics import mean_absolute_error\n",
    "from sklearn.linear_model import LinearRegression\n",
    "from scipy.linalg import lstsq\n",
    "%matplotlib inline  \n"
   ]
  },
  {
   "cell_type": "code",
   "execution_count": 46,
   "metadata": {},
   "outputs": [],
   "source": [
    "def compute_mean_and_std_test (model_8_predicted_y, y_test):\n",
    "    num_of_samples = len(model_8_predicted_y)\n",
    "    R2_score = np.zeros((num_of_samples,))\n",
    "    pearson = np.zeros((num_of_samples,))\n",
    "    MSE = np.zeros((num_of_samples,))\n",
    "    MAE = np.zeros((num_of_samples,))\n",
    "    for i in range (num_of_samples):\n",
    "        y_predicted = model_8_predicted_y[i,:]\n",
    "        R2_score [i] = r2_score(np.array(y_test[i,:]).reshape((-1,)), np.array(y_predicted).reshape((-1,)))\n",
    "        pearson [i] = pearsonr(np.array(y_predicted).reshape((-1,)), np.array(y_test[i,:]).reshape((-1,)) )[0]\n",
    "        MSE [i]= mean_squared_error(np.array(y_test[i,:]).reshape((-1,)), np.array(y_predicted).reshape((-1,)))\n",
    "        MAE [i]= mean_absolute_error(np.array(y_test[i,:]).reshape((-1,)), np.array(y_predicted).reshape((-1,)))\n",
    "    \n",
    "\n",
    "    print(\"R2\")\n",
    "    std = np.std(np.array(R2_score).reshape((-1,)))\n",
    "    mean = np.mean(np.array(R2_score).reshape((-1,)))\n",
    "    print(\"mean: \", mean, \" std: \", std)\n",
    "    print(\"pearson\")\n",
    "    std = np.std(np.array(pearson).reshape((-1,)))\n",
    "    mean = np.mean(np.array(pearson).reshape((-1,)))\n",
    "    print(\"mean: \", mean, \" std: \", std)\n",
    "    print(\"MSE\")\n",
    "    std = np.std(np.array(MSE).reshape((-1,)))\n",
    "    mean = np.mean(np.array(MSE).reshape((-1,)))\n",
    "    print(\"mean: \", mean, \" std: \", std)\n",
    "    print(\"MAE\")\n",
    "    std = np.std(np.array(MAE).reshape((-1,)))\n",
    "    mean = np.mean(np.array(MAE).reshape((-1,)))\n",
    "    print(\"mean: \", mean, \" std: \", std)"
   ]
  },
  {
   "cell_type": "code",
   "execution_count": 51,
   "metadata": {},
   "outputs": [],
   "source": [
    "def train_and_test_model (X_train, X_test, y_train, y_test, model_type):\n",
    "    mdl = None\n",
    "    if (model_type == \"linear_regression\"):\n",
    "        mdl = LinearRegression().fit(np.concatenate((X_train, y_train[:,0]), axis=1), y_train[:,1:])\n",
    "    else:\n",
    "        if (model_type == 'lasso_regression'):\n",
    "            mdl = Lasso(alpha=0.0001, max_iter=1000)\n",
    "            mdl.fit(np.concatenate((X_train, y_train[:,0]), axis=1), y_train[:,1:])\n",
    "    print(\"test\")\n",
    "    predicted_y = mdl.predict(np.concatenate((X_test, y_test[:,0]), axis=1))\n",
    "    print(\"pearson:\",pearsonr(np.array(predicted_y).reshape((-1,)), np.array(y_test[:,1:]).reshape((-1,))))\n",
    "    print(\"R2:\",r2_score(predicted_y, y_test[:,1:]))\n",
    "    print(\"MSE:\",mean_squared_error(predicted_y, y_test[:,1:]))\n",
    "    print(\"MAE:\",mean_absolute_error(predicted_y, y_test[:,1:]))\n",
    "    compute_mean_and_std_test (predicted_y, y_test[:,1:])\n",
    "    print(\"train\")\n",
    "    predicted_y = mdl.predict(np.concatenate((X_train, y_train[:,0]), axis=1))\n",
    "    print(\"pearson:\",pearsonr(np.array(predicted_y).reshape((-1,)), np.array(y_train[:,1:]).reshape((-1,))))\n",
    "    print(\"R2:\",r2_score(predicted_y, y_train[:,1:]))\n",
    "    print(\"MSE:\",mean_squared_error(predicted_y, y_train[:,1:]))\n",
    "    print(\"MAE:\",mean_absolute_error(predicted_y, y_train[:,1:]))\n",
    "    compute_mean_and_std_test (predicted_y, y_train[:,1:])"
   ]
  },
  {
   "cell_type": "code",
   "execution_count": 3,
   "metadata": {},
   "outputs": [],
   "source": [
    "seq_PATH = \"1-s2.0-S1097276517308730-mmc2.xlsx\"\n",
    "A_minus_normalized_levels_PATH = \"1-s2.0-S1097276517308730-mmc3.xlsx\"\n",
    "A_plus_normalized_levels_PATH = \"1-s2.0-S1097276517308730-mmc4.xlsx\"\n",
    "validation_seq_PATH = \"validation_sequences.xlsx\"\n",
    "validation_A_minus_normalized_levels_PATH = \"validation_normalized levels_A-.xlsx\"\n",
    "validation_A_plus_normalized_levels_PATH = \"validation_normalized levels_A+.xlsx\""
   ]
  },
  {
   "cell_type": "code",
   "execution_count": 4,
   "metadata": {},
   "outputs": [],
   "source": [
    "filename = 'RF_features_1-8kmers.sav'\n",
    "Fetures = pickle.load(open(filename, 'rb'))\n",
    "features = Fetures.toarray()[:, :21844]\n",
    "del Fetures\n",
    "y = np.matrix(pd.read_excel (A_plus_normalized_levels_PATH)) [1:90001,1:].astype('float32')\n",
    "from sklearn.model_selection import train_test_split\n",
    "X_train, X_test, y_train, y_test = train_test_split(features, y, test_size=0.22, random_state=31)"
   ]
  },
  {
   "cell_type": "code",
   "execution_count": 54,
   "metadata": {},
   "outputs": [
    {
     "data": {
      "text/plain": [
       "1.1829695627713706e+19"
      ]
     },
     "execution_count": 54,
     "metadata": {},
     "output_type": "execute_result"
    }
   ],
   "source": [
    "np.linalg.cond(X_train)"
   ]
  },
  {
   "cell_type": "code",
   "execution_count": 57,
   "metadata": {},
   "outputs": [
    {
     "data": {
      "text/plain": [
       "34.49010077213819"
      ]
     },
     "execution_count": 57,
     "metadata": {},
     "output_type": "execute_result"
    }
   ],
   "source": [
    "np.linalg.cond(X_train_pca)"
   ]
  },
  {
   "cell_type": "code",
   "execution_count": 58,
   "metadata": {},
   "outputs": [
    {
     "data": {
      "text/plain": [
       "151.9045750357635"
      ]
     },
     "execution_count": 58,
     "metadata": {},
     "output_type": "execute_result"
    }
   ],
   "source": [
    "np.linalg.cond(X_train_svd)"
   ]
  },
  {
   "cell_type": "code",
   "execution_count": 61,
   "metadata": {},
   "outputs": [
    {
     "data": {
      "text/plain": [
       "1029.3659112526184"
      ]
     },
     "execution_count": 61,
     "metadata": {},
     "output_type": "execute_result"
    }
   ],
   "source": [
    "np.linalg.cond(X_train_svd_opt)"
   ]
  },
  {
   "cell_type": "code",
   "execution_count": 20,
   "metadata": {},
   "outputs": [],
   "source": [
    "u, s, vh = np.linalg.svd(X_train, full_matrices=False)"
   ]
  },
  {
   "cell_type": "code",
   "execution_count": 63,
   "metadata": {},
   "outputs": [
    {
     "name": "stdout",
     "output_type": "stream",
     "text": [
      "(21844, 21844)\n"
     ]
    }
   ],
   "source": [
    "s = np.diag(s)\n",
    "print (s.shape)"
   ]
  },
  {
   "cell_type": "code",
   "execution_count": 66,
   "metadata": {},
   "outputs": [
    {
     "data": {
      "image/png": "[encoded data removed]",
      "text/plain": [
       "<Figure size 432x288 with 1 Axes>"
      ]
     },
     "metadata": {
      "needs_background": "light"
     },
     "output_type": "display_data"
    },
    {
     "data": {
      "image/png": "[encoded data removed]",
      "text/plain": [
       "<Figure size 432x288 with 1 Axes>"
      ]
     },
     "metadata": {
      "needs_background": "light"
     },
     "output_type": "display_data"
    }
   ],
   "source": [
    "import matplotlib.pyplot as plt\n",
    "plt.figure(1)\n",
    "plt.semilogy(np.diag(s))\n",
    "plt.title('Singular Values')\n",
    "plt.show()\n",
    "\n",
    "plt.figure(2)\n",
    "plt.plot(np.cumsum(np.diag(s))/np.sum(np.diag(s)))\n",
    "plt.title('Singular Values: Cumulative Sum')\n",
    "plt.show()"
   ]
  },
  {
   "cell_type": "code",
   "execution_count": 43,
   "metadata": {},
   "outputs": [
    {
     "name": "stdout",
     "output_type": "stream",
     "text": [
      "Sigma unknown:\n",
      "*************\n",
      "approximated coefficent w(beta):  1.9212138814869963\n",
      "optimal coefficent w(beta):  1.921395463971148\n",
      "cutoff value:  17.806060174185763\n",
      "target rank:  6899\n"
     ]
    },
    {
     "data": {
      "text/plain": [
       "6899"
      ]
     },
     "execution_count": 43,
     "metadata": {},
     "output_type": "execute_result"
    }
   ],
   "source": [
    "from optht import * \n",
    "k = optht(X_train, sv=s, sigma=None)\n",
    "k"
   ]
  },
  {
   "cell_type": "code",
   "execution_count": 59,
   "metadata": {},
   "outputs": [],
   "source": [
    "from sklearn.decomposition import TruncatedSVD\n",
    "svd_opt = TruncatedSVD(n_components=6899, n_iter=7, random_state=42)\n",
    "X_train_svd_opt = svd_opt.fit_transform(X_train)\n",
    "X_test_svd_opt = svd_opt.transform(X_test)"
   ]
  },
  {
   "cell_type": "code",
   "execution_count": 60,
   "metadata": {},
   "outputs": [
    {
     "name": "stdout",
     "output_type": "stream",
     "text": [
      "SVD lasso\n",
      "test\n",
      "pearson: (0.9443356564331692, 0.0)\n",
      "R2: 0.8537494548480364\n",
      "MSE: 0.654406113697748\n",
      "MAE: 0.578376113671468\n",
      "R2\n",
      "mean:  0.3296091947738701  std:  1.0895538336209023\n",
      "pearson\n",
      "mean:  0.890305863199541  std:  0.14034789810337975\n",
      "MSE\n",
      "mean:  0.6544061136977459  std:  0.8532029658706327\n",
      "MAE\n",
      "mean:  0.578376113671467  std:  0.35479855649036696\n",
      "train\n",
      "pearson: (0.9523442846654726, 0.0)\n",
      "R2: 0.875289816368928\n",
      "MSE: 0.5610066487244448\n",
      "MAE: 0.5351732648328655\n",
      "R2\n",
      "mean:  0.42770291810178274  std:  0.9879456685629591\n",
      "pearson\n",
      "mean:  0.9065278533458833  std:  0.12291294051080955\n",
      "MSE\n",
      "mean:  0.5610066487244436  std:  0.7470814265272409\n",
      "MAE\n",
      "mean:  0.5351732648328662  std:  0.3315398136789053\n",
      "SVD linear regression\n",
      "test\n",
      "pearson: (0.9427469931462711, 0.0)\n",
      "R2: 0.8507357351599867\n",
      "MSE: 0.672761601132119\n",
      "MAE: 0.591392770415893\n",
      "R2\n",
      "mean:  0.30370535467669413  std:  1.1090487395813664\n",
      "pearson\n",
      "mean:  0.8861455743316701  std:  0.14192016715624947\n",
      "MSE\n",
      "mean:  0.6727616011321186  std:  0.8585459753322782\n",
      "MAE\n",
      "mean:  0.5913927704158923  std:  0.3541731648726258\n",
      "train\n",
      "pearson: (0.95277120501825, 0.0)\n",
      "R2: 0.8772319807258917\n",
      "MSE: 0.5560770062877634\n",
      "MAE: 0.5372793090624773\n",
      "R2\n",
      "mean:  0.4267839605837826  std:  0.9694499099009494\n",
      "pearson\n",
      "mean:  0.9068741252257192  std:  0.11918635659740669\n",
      "MSE\n",
      "mean:  0.5560770062877621  std:  0.724229131161733\n",
      "MAE\n",
      "mean:  0.5372793090624814  std:  0.32429802084310033\n"
     ]
    }
   ],
   "source": [
    "print(\"SVD lasso\")\n",
    "train_and_test_model (X_train_svd_opt, X_test_svd_opt, y_train, y_test, \"lasso_regression\")\n",
    "print(\"SVD linear regression\")\n",
    "train_and_test_model (X_train_svd_opt, X_test_svd_opt, y_train, y_test, \"linear_regression\")"
   ]
  },
  {
   "cell_type": "code",
   "execution_count": 55,
   "metadata": {},
   "outputs": [],
   "source": [
    "from sklearn.decomposition import TruncatedSVD\n",
    "svd = TruncatedSVD(n_components=400, n_iter=7, random_state=42)\n",
    "X_train_svd = svd.fit_transform(X_train)\n",
    "X_test_svd = svd.transform(X_test)"
   ]
  },
  {
   "cell_type": "code",
   "execution_count": 56,
   "metadata": {},
   "outputs": [
    {
     "name": "stdout",
     "output_type": "stream",
     "text": [
      "SVD lasso\n",
      "test\n",
      "pearson: (0.9430987828088729, 0.0)\n",
      "R2: 0.8466953810863016\n",
      "MSE: 0.6685583366244527\n",
      "MAE: 0.5782301923319797\n",
      "R2\n",
      "mean:  0.32447379080720984  std:  1.1237718801357945\n",
      "pearson\n",
      "mean:  0.8972442979333003  std:  0.13821939218085194\n",
      "MSE\n",
      "mean:  0.6685583366244531  std:  0.8802793653192782\n",
      "MAE\n",
      "mean:  0.5782301923319801  std:  0.3632522970539041\n",
      "train\n",
      "pearson: (0.9430655202927625, 0.0)\n",
      "R2: 0.8479347634853528\n",
      "MSE: 0.6670210688673305\n",
      "MAE: 0.5773706571752129\n",
      "R2\n",
      "mean:  0.33000323924183356  std:  1.1427275355484325\n",
      "pearson\n",
      "mean:  0.8970819943886483  std:  0.13983455375097215\n",
      "MSE\n",
      "mean:  0.6670210688673293  std:  0.8911234592975207\n",
      "MAE\n",
      "mean:  0.5773706571752145  std:  0.3655143299257593\n",
      "SVD linear regression\n",
      "test\n",
      "pearson: (0.9430976296675538, 0.0)\n",
      "R2: 0.8467580976753999\n",
      "MSE: 0.668572093397128\n",
      "MAE: 0.5783050812144197\n",
      "R2\n",
      "mean:  0.32431511438121524  std:  1.1243182126253022\n",
      "pearson\n",
      "mean:  0.8972032299493392  std:  0.1382340532057927\n",
      "MSE\n",
      "mean:  0.6685720933971285  std:  0.8800307010055981\n",
      "MAE\n",
      "mean:  0.5783050812144204  std:  0.36317234074203286\n",
      "train\n",
      "pearson: (0.9430806140938067, 0.0)\n",
      "R2: 0.8480298649729342\n",
      "MSE: 0.6668493540444593\n",
      "MAE: 0.5773831645246791\n",
      "R2\n",
      "mean:  0.3297940299737535  std:  1.1424129513095487\n",
      "pearson\n",
      "mean:  0.8970753699833636  std:  0.13980200992616718\n",
      "MSE\n",
      "mean:  0.6668493540444607  std:  0.890373337303588\n",
      "MAE\n",
      "mean:  0.5773831645246801  std:  0.3653563275629101\n"
     ]
    }
   ],
   "source": [
    "print(\"SVD lasso\")\n",
    "train_and_test_model (X_train_svd, X_test_svd, y_train, y_test, \"lasso_regression\")\n",
    "print(\"SVD linear regression\")\n",
    "train_and_test_model (X_train_svd, X_test_svd, y_train, y_test, \"linear_regression\")"
   ]
  },
  {
   "cell_type": "code",
   "execution_count": 49,
   "metadata": {},
   "outputs": [],
   "source": [
    "from sklearn.linear_model import LogisticRegression\n",
    "from sklearn.decomposition import PCA\n",
    "\n",
    "pca = PCA(n_components=400)\n",
    "\n",
    "# fit and transform data\n",
    "X_train_pca = pca.fit_transform(X_train)\n",
    "X_test_pca = pca.transform(X_test)\n"
   ]
  },
  {
   "cell_type": "code",
   "execution_count": 52,
   "metadata": {},
   "outputs": [
    {
     "name": "stdout",
     "output_type": "stream",
     "text": [
      "PCA lasso\n",
      "test\n",
      "pearson: (0.9431838744325737, 0.0)\n",
      "R2: 0.8469803018645283\n",
      "MSE: 0.6675818499655104\n",
      "MAE: 0.5779331341835112\n",
      "R2\n",
      "mean:  0.32507766650701786  std:  1.1222555148584092\n",
      "pearson\n",
      "mean:  0.8972683919356648  std:  0.13827716676590246\n",
      "MSE\n",
      "mean:  0.6675818499655102  std:  0.8782574652025729\n",
      "MAE\n",
      "mean:  0.5779331341835108  std:  0.3627628215358726\n",
      "train\n",
      "pearson: (0.9431438979200452, 0.0)\n",
      "R2: 0.848190266654867\n",
      "MSE: 0.6661296992613084\n",
      "MAE: 0.576936948025706\n",
      "R2\n",
      "mean:  0.3306476082003882  std:  1.1462827707594547\n",
      "pearson\n",
      "mean:  0.8970905087873803  std:  0.1398099631476781\n",
      "MSE\n",
      "mean:  0.6661296992613067  std:  0.8908030879424893\n",
      "MAE\n",
      "mean:  0.5769369480257088  std:  0.36535075283265367\n",
      "PCA linear regression\n",
      "test\n",
      "pearson: (0.9431781545491427, 0.0)\n",
      "R2: 0.8470143792878895\n",
      "MSE: 0.6676428686814311\n",
      "MAE: 0.5780251095332389\n",
      "R2\n",
      "mean:  0.32482132491333343  std:  1.122813874635243\n",
      "pearson\n",
      "mean:  0.8972324877184495  std:  0.13828726504825176\n",
      "MSE\n",
      "mean:  0.6676428686814316  std:  0.8781514418268224\n",
      "MAE\n",
      "mean:  0.5780251095332395  std:  0.3627240512376281\n",
      "train\n",
      "pearson: (0.943144769981081, 0.0)\n",
      "R2: 0.848241644012292\n",
      "MSE: 0.6661197171086911\n",
      "MAE: 0.5769905230966603\n",
      "R2\n",
      "mean:  0.33045581556569226  std:  1.1465399780326124\n",
      "pearson\n",
      "mean:  0.8970736949784227  std:  0.13979380349555412\n",
      "MSE\n",
      "mean:  0.6661197171086891  std:  0.8906180487825429\n",
      "MAE\n",
      "mean:  0.5769905230966592  std:  0.3652995788717165\n"
     ]
    }
   ],
   "source": [
    "print(\"PCA lasso\")\n",
    "train_and_test_model (X_train_pca, X_test_pca, y_train, y_test, \"lasso_regression\")\n",
    "print(\"PCA linear regression\")\n",
    "train_and_test_model (X_train_pca, X_test_pca, y_train, y_test, \"linear_regression\")"
   ]
  },
  {
   "cell_type": "code",
   "execution_count": 57,
   "metadata": {},
   "outputs": [
    {
     "ename": "SystemError",
     "evalue": "Failed to solve the system of normal equations\n",
     "output_type": "error",
     "traceback": [
      "\u001b[0;31m---------------------------------------------------------------------------\u001b[0m",
      "\u001b[0;31mSystemError\u001b[0m                               Traceback (most recent call last)",
      "\u001b[0;32m<ipython-input-57-95711ed821b2>\u001b[0m in \u001b[0;36m<module>\u001b[0;34m\u001b[0m\n\u001b[0;32m----> 1\u001b[0;31m \u001b[0mmdl\u001b[0m \u001b[0;34m=\u001b[0m \u001b[0mLinearRegression\u001b[0m\u001b[0;34m(\u001b[0m\u001b[0;34m)\u001b[0m\u001b[0;34m.\u001b[0m\u001b[0mfit\u001b[0m\u001b[0;34m(\u001b[0m\u001b[0mnp\u001b[0m\u001b[0;34m.\u001b[0m\u001b[0mconcatenate\u001b[0m\u001b[0;34m(\u001b[0m\u001b[0;34m(\u001b[0m\u001b[0mX_train\u001b[0m\u001b[0;34m,\u001b[0m \u001b[0my_train\u001b[0m\u001b[0;34m[\u001b[0m\u001b[0;34m:\u001b[0m\u001b[0;34m,\u001b[0m\u001b[0;36m0\u001b[0m\u001b[0;34m]\u001b[0m\u001b[0;34m)\u001b[0m\u001b[0;34m,\u001b[0m \u001b[0maxis\u001b[0m\u001b[0;34m=\u001b[0m\u001b[0;36m1\u001b[0m\u001b[0;34m)\u001b[0m\u001b[0;34m,\u001b[0m \u001b[0my_train\u001b[0m\u001b[0;34m[\u001b[0m\u001b[0;34m:\u001b[0m\u001b[0;34m,\u001b[0m\u001b[0;36m1\u001b[0m\u001b[0;34m:\u001b[0m\u001b[0;34m]\u001b[0m\u001b[0;34m)\u001b[0m\u001b[0;34m\u001b[0m\u001b[0m\n\u001b[0m\u001b[1;32m      2\u001b[0m \u001b[0mpredicted_y\u001b[0m \u001b[0;34m=\u001b[0m \u001b[0mmdl\u001b[0m\u001b[0;34m.\u001b[0m\u001b[0mpredict\u001b[0m\u001b[0;34m(\u001b[0m\u001b[0mnp\u001b[0m\u001b[0;34m.\u001b[0m\u001b[0mconcatenate\u001b[0m\u001b[0;34m(\u001b[0m\u001b[0;34m(\u001b[0m\u001b[0mX_test\u001b[0m\u001b[0;34m,\u001b[0m \u001b[0my_test\u001b[0m\u001b[0;34m[\u001b[0m\u001b[0;34m:\u001b[0m\u001b[0;34m,\u001b[0m\u001b[0;36m0\u001b[0m\u001b[0;34m]\u001b[0m\u001b[0;34m)\u001b[0m\u001b[0;34m,\u001b[0m \u001b[0maxis\u001b[0m\u001b[0;34m=\u001b[0m\u001b[0;36m1\u001b[0m\u001b[0;34m)\u001b[0m\u001b[0;34m)\u001b[0m\u001b[0;34m\u001b[0m\u001b[0m\n",
      "\u001b[0;32m/root/anaconda2/lib/python3.6/site-packages/sklearn/daal4sklearn/linear.py\u001b[0m in \u001b[0;36mfit\u001b[0;34m(self, X, y, sample_weight)\u001b[0m\n\u001b[1;32m     95\u001b[0m             \u001b[0;34m(\u001b[0m\u001b[0mX\u001b[0m\u001b[0;34m.\u001b[0m\u001b[0mdtype\u001b[0m \u001b[0;34m==\u001b[0m \u001b[0mnp\u001b[0m\u001b[0;34m.\u001b[0m\u001b[0mfloat64\u001b[0m \u001b[0;32mor\u001b[0m \u001b[0mX\u001b[0m\u001b[0;34m.\u001b[0m\u001b[0mdtype\u001b[0m \u001b[0;34m==\u001b[0m \u001b[0mnp\u001b[0m\u001b[0;34m.\u001b[0m\u001b[0mfloat32\u001b[0m\u001b[0;34m)\u001b[0m \u001b[0;32mand\u001b[0m\u001b[0;34m\u001b[0m\u001b[0m\n\u001b[1;32m     96\u001b[0m             sample_weight is None):\n\u001b[0;32m---> 97\u001b[0;31m         \u001b[0mdaal_fit\u001b[0m\u001b[0;34m(\u001b[0m\u001b[0mself\u001b[0m\u001b[0;34m,\u001b[0m \u001b[0mX\u001b[0m\u001b[0;34m,\u001b[0m \u001b[0my\u001b[0m\u001b[0;34m)\u001b[0m\u001b[0;34m\u001b[0m\u001b[0m\n\u001b[0m\u001b[1;32m     98\u001b[0m         \u001b[0;32mreturn\u001b[0m \u001b[0mself\u001b[0m\u001b[0;34m\u001b[0m\u001b[0m\n\u001b[1;32m     99\u001b[0m \u001b[0;34m\u001b[0m\u001b[0m\n",
      "\u001b[0;32m/root/anaconda2/lib/python3.6/site-packages/sklearn/daal4sklearn/linear.py\u001b[0m in \u001b[0;36mdaal_fit\u001b[0;34m(self, X, y)\u001b[0m\n\u001b[1;32m     33\u001b[0m     \u001b[0;31m# Build the multiple linear regression model and retrieve the algorithm results\u001b[0m\u001b[0;34m\u001b[0m\u001b[0;34m\u001b[0m\u001b[0m\n\u001b[1;32m     34\u001b[0m     \u001b[0malgorithm\u001b[0m\u001b[0;34m.\u001b[0m\u001b[0mparameter\u001b[0m\u001b[0;34m.\u001b[0m\u001b[0minterceptFlag\u001b[0m \u001b[0;34m=\u001b[0m \u001b[0mself\u001b[0m\u001b[0;34m.\u001b[0m\u001b[0mfit_intercept\u001b[0m\u001b[0;34m\u001b[0m\u001b[0m\n\u001b[0;32m---> 35\u001b[0;31m     \u001b[0mself\u001b[0m\u001b[0;34m.\u001b[0m\u001b[0mtrainingResult_\u001b[0m \u001b[0;34m=\u001b[0m \u001b[0malgorithm\u001b[0m\u001b[0;34m.\u001b[0m\u001b[0mcompute\u001b[0m\u001b[0;34m(\u001b[0m\u001b[0;34m)\u001b[0m\u001b[0;34m\u001b[0m\u001b[0m\n\u001b[0m\u001b[1;32m     36\u001b[0m     \u001b[0mself\u001b[0m\u001b[0;34m.\u001b[0m\u001b[0mcoef_\u001b[0m \u001b[0;34m=\u001b[0m \u001b[0mgetArrayFromNumericTable\u001b[0m\u001b[0;34m(\u001b[0m\u001b[0mself\u001b[0m\u001b[0;34m.\u001b[0m\u001b[0mtrainingResult_\u001b[0m\u001b[0;34m.\u001b[0m\u001b[0mget\u001b[0m\u001b[0;34m(\u001b[0m\u001b[0mtraining\u001b[0m\u001b[0;34m.\u001b[0m\u001b[0mmodel\u001b[0m\u001b[0;34m)\u001b[0m\u001b[0;34m.\u001b[0m\u001b[0mgetBeta\u001b[0m\u001b[0;34m(\u001b[0m\u001b[0;34m)\u001b[0m\u001b[0;34m)\u001b[0m\u001b[0;34m\u001b[0m\u001b[0m\n\u001b[1;32m     37\u001b[0m     \u001b[0;32mif\u001b[0m \u001b[0mself\u001b[0m\u001b[0;34m.\u001b[0m\u001b[0mfit_intercept\u001b[0m \u001b[0;34m==\u001b[0m \u001b[0;32mTrue\u001b[0m\u001b[0;34m:\u001b[0m\u001b[0;34m\u001b[0m\u001b[0m\n",
      "\u001b[0;32m/root/anaconda2/lib/python3.6/site-packages/daal/algorithms/linear_regression/training.py\u001b[0m in \u001b[0;36mcompute\u001b[0;34m(self)\u001b[0m\n\u001b[1;32m    581\u001b[0m \u001b[0;34m\u001b[0m\u001b[0m\n\u001b[1;32m    582\u001b[0m     \u001b[0;32mdef\u001b[0m \u001b[0mcompute\u001b[0m\u001b[0;34m(\u001b[0m\u001b[0mself\u001b[0m\u001b[0;34m)\u001b[0m\u001b[0;34m:\u001b[0m\u001b[0;34m\u001b[0m\u001b[0m\n\u001b[0;32m--> 583\u001b[0;31m         \u001b[0;32mreturn\u001b[0m \u001b[0m_training15\u001b[0m\u001b[0;34m.\u001b[0m\u001b[0mBatch_Float32NormEqDense_compute\u001b[0m\u001b[0;34m(\u001b[0m\u001b[0mself\u001b[0m\u001b[0;34m)\u001b[0m\u001b[0;34m\u001b[0m\u001b[0m\n\u001b[0m\u001b[1;32m    584\u001b[0m \u001b[0mBatch_Float32NormEqDense_swigregister\u001b[0m \u001b[0;34m=\u001b[0m \u001b[0m_training15\u001b[0m\u001b[0;34m.\u001b[0m\u001b[0mBatch_Float32NormEqDense_swigregister\u001b[0m\u001b[0;34m\u001b[0m\u001b[0m\n\u001b[1;32m    585\u001b[0m \u001b[0mBatch_Float32NormEqDense_swigregister\u001b[0m\u001b[0;34m(\u001b[0m\u001b[0mBatch_Float32NormEqDense\u001b[0m\u001b[0;34m)\u001b[0m\u001b[0;34m\u001b[0m\u001b[0m\n",
      "\u001b[0;31mSystemError\u001b[0m: Failed to solve the system of normal equations\n"
     ]
    }
   ],
   "source": [
    "mdl = LinearRegression().fit(np.concatenate((X_train, y_train[:,0]), axis=1), y_train[:,1:])\n",
    "predicted_y = mdl.predict(np.concatenate((X_test, y_test[:,0]), axis=1))"
   ]
  },
  {
   "cell_type": "code",
   "execution_count": 138,
   "metadata": {},
   "outputs": [],
   "source": [
    "X_train_new = np.concatenate((X_train, np.full((X_train.shape[0], 1), 1)), axis=1)"
   ]
  },
  {
   "cell_type": "code",
   "execution_count": 139,
   "metadata": {},
   "outputs": [],
   "source": [
    "from scipy.linalg import lstsq\n",
    "import matplotlib.pyplot as plt\n",
    "p, res, rnk, s = lstsq(np.concatenate((X_train_new, y_train[:,0]), axis=1), y_train[:,1:])"
   ]
  },
  {
   "cell_type": "code",
   "execution_count": 140,
   "metadata": {},
   "outputs": [],
   "source": [
    "X_test_new = np.concatenate((X_test, np.full((X_test.shape[0], 1), 1)), axis=1)"
   ]
  },
  {
   "cell_type": "code",
   "execution_count": 141,
   "metadata": {},
   "outputs": [],
   "source": [
    "predicted_y = np.zeros((y_test.shape[0], 8))\n",
    "for i in range(8):\n",
    "    predicted_y [:,i] = np.matmul(np.concatenate((X_test_new, y_test[:,0]), axis=1), (p[:,i]))"
   ]
  },
  {
   "cell_type": "code",
   "execution_count": 142,
   "metadata": {},
   "outputs": [
    {
     "name": "stdout",
     "output_type": "stream",
     "text": [
      "pearson: (-0.23885076377844527, 0.0)\n",
      "R2: -4.375351019419085e+125\n",
      "MSE: 6.110312198612535\n",
      "MAE: 1.967582853466054\n"
     ]
    }
   ],
   "source": [
    "print(\"pearson:\",pearsonr(np.array(predicted_y).reshape((-1,)), np.array(y_test[:,1:]).reshape((-1,))))\n",
    "print(\"R2:\",r2_score(predicted_y, y_test[:,1:]))\n",
    "print(\"MSE:\",mean_squared_error(predicted_y, y_test[:,1:]))\n",
    "print(\"MAE:\",mean_absolute_error(predicted_y, y_test[:,1:]))"
   ]
  },
  {
   "cell_type": "code",
   "execution_count": 143,
   "metadata": {},
   "outputs": [
    {
     "name": "stdout",
     "output_type": "stream",
     "text": [
      "R2\n",
      "mean:  -7.380894686175142  std:  15.237798852174011\n",
      "pearson\n",
      "mean:  -0.20845151393892014  std:  0.2352691812213125\n",
      "MSE\n",
      "mean:  6.110312198612333  std:  6.405289113447559\n",
      "MAE\n",
      "mean:  1.9675828534660538  std:  1.1636387262813488\n"
     ]
    }
   ],
   "source": [
    "compute_mean_and_std_test (predicted_y, y_test[:,1:])"
   ]
  },
  {
   "cell_type": "code",
   "execution_count": 145,
   "metadata": {},
   "outputs": [],
   "source": [
    "predicted_y_train = np.zeros((y_train.shape[0], 8))\n",
    "for i in range(8):\n",
    "    predicted_y_train [:,i] = np.matmul(np.concatenate((X_train_new, y_train[:,0]), axis=1), (p[:,i]))"
   ]
  },
  {
   "cell_type": "code",
   "execution_count": 147,
   "metadata": {},
   "outputs": [
    {
     "name": "stdout",
     "output_type": "stream",
     "text": [
      "on train:\n",
      "pearson: (-0.22878027992538758, 0.0)\n",
      "R2: -4.346744160485906e+125\n",
      "MSE: 6.097097839006497\n",
      "MAE: 1.9651464816100626\n"
     ]
    }
   ],
   "source": [
    "print(\"on train:\")\n",
    "print(\"pearson:\",pearsonr(np.array(predicted_y_train).reshape((-1,)), np.array(y_train[:,1:]).reshape((-1,))))\n",
    "print(\"R2:\",r2_score(predicted_y_train, y_train[:,1:]))\n",
    "print(\"MSE:\",mean_squared_error(predicted_y_train, y_train[:,1:]))\n",
    "print(\"MAE:\",mean_absolute_error(predicted_y_train, y_train[:,1:]))"
   ]
  },
  {
   "cell_type": "code",
   "execution_count": 149,
   "metadata": {},
   "outputs": [
    {
     "name": "stdout",
     "output_type": "stream",
     "text": [
      "R2\n",
      "mean:  -7.260138490328705  std:  15.080288924314761\n",
      "pearson\n",
      "mean:  -0.2096584330986507  std:  0.23712947875104023\n",
      "MSE\n",
      "mean:  6.050800238473496  std:  6.3638923469061845\n",
      "MAE\n",
      "mean:  1.9569106957394535  std:  1.1596383082084476\n"
     ]
    }
   ],
   "source": [
    "compute_mean_and_std_test (predicted_y_train, y_train[:,1:])"
   ]
  },
  {
   "cell_type": "code",
   "execution_count": 29,
   "metadata": {},
   "outputs": [
    {
     "name": "stdout",
     "output_type": "stream",
     "text": [
      "pearson: (0.8690714502485642, 0.0)\n",
      "R2: 0.10980670702607043\n",
      "MSE: 2.1716879777418514\n",
      "MAE: 1.029606758317032\n",
      "R2\n",
      "mean:  -1.142738590143263  std:  2.8552229013488404\n",
      "pearson\n",
      "mean:  0.32151668654191423  std:  0.7512328008779968\n",
      "MSE\n",
      "mean:  2.1716879777418496  std:  2.14053445389001\n",
      "MAE\n",
      "mean:  1.0296067583170339  std:  0.5600718380936729\n",
      "on train:\n",
      "pearson: (0.8689629423085111, 0.0)\n",
      "R2: 0.12555836419167676\n",
      "MSE: 2.1555962805137145\n",
      "MAE: 1.026570826566957\n",
      "R2\n",
      "mean:  -1.0992156804992657  std:  2.7563112403832464\n",
      "pearson\n",
      "mean:  0.3328688639615663  std:  0.746949660164864\n",
      "MSE\n",
      "mean:  2.1433280199008187  std:  2.114207025233557\n",
      "MAE\n",
      "mean:  1.0215944109751824  std:  0.5558928948128946\n"
     ]
    }
   ],
   "source": [
    "p, res, rnk, s = lstsq(np.concatenate((X_train_pca, y_train[:,0]), axis=1), y_train[:,1:])\n",
    "predicted_y = np.zeros((y_test.shape[0], 8))\n",
    "for i in range(8):\n",
    "    predicted_y [:,i] = np.matmul(np.concatenate((X_test_pca, y_test[:,0]), axis=1), (p[:,i]))\n",
    "print(\"pearson:\",pearsonr(np.array(predicted_y).reshape((-1,)), np.array(y_test[:,1:]).reshape((-1,))))\n",
    "print(\"R2:\",r2_score(predicted_y, y_test[:,1:]))\n",
    "print(\"MSE:\",mean_squared_error(predicted_y, y_test[:,1:]))\n",
    "print(\"MAE:\",mean_absolute_error(predicted_y, y_test[:,1:]))\n",
    "compute_mean_and_std_test (predicted_y, y_test[:,1:])\n",
    "print(\"on train:\")\n",
    "predicted_y_train = np.zeros((y_train.shape[0], 8))\n",
    "for i in range(8):\n",
    "    predicted_y_train [:,i] = np.matmul(np.concatenate((X_train_pca, y_train[:,0]), axis=1), (p[:,i]))\n",
    "print(\"pearson:\",pearsonr(np.array(predicted_y_train).reshape((-1,)), np.array(y_train[:,1:]).reshape((-1,))))\n",
    "print(\"R2:\",r2_score(predicted_y_train, y_train[:,1:]))\n",
    "print(\"MSE:\",mean_squared_error(predicted_y_train, y_train[:,1:]))\n",
    "print(\"MAE:\",mean_absolute_error(predicted_y_train, y_train[:,1:]))\n",
    "compute_mean_and_std_test (predicted_y_train, y_train[:,1:])"
   ]
  },
  {
   "cell_type": "code",
   "execution_count": 28,
   "metadata": {},
   "outputs": [
    {
     "name": "stdout",
     "output_type": "stream",
     "text": [
      "pearson: (0.9431913895030141, 0.0)\n",
      "R2: 0.8470503684257155\n",
      "MSE: 0.6675059960383263\n",
      "MAE: 0.577834071265056\n",
      "R2\n",
      "mean:  0.32529390905231964  std:  1.122670079759373\n",
      "pearson\n",
      "mean:  0.8972481629659332  std:  0.13825022602385467\n",
      "MSE\n",
      "mean:  0.6675059960383273  std:  0.8789030570227601\n",
      "MAE\n",
      "mean:  0.5778340712650578  std:  0.3627895086745033\n",
      "on train:\n",
      "pearson: (0.9431298810005031, 0.0)\n",
      "R2: 0.8481892865031216\n",
      "MSE: 0.6662890520579148\n",
      "MAE: 0.5770590269086611\n",
      "R2\n",
      "mean:  0.3304070354514916  std:  1.1468967146381825\n",
      "pearson\n",
      "mean:  0.8978176267167561  std:  0.13896315141966453\n",
      "MSE\n",
      "mean:  0.6615985642416344  std:  0.8770696933583166\n",
      "MAE\n",
      "mean:  0.575598991747622  std:  0.3615623679658298\n"
     ]
    }
   ],
   "source": [
    "X_train_pca_new = np.concatenate((X_train_pca, np.full((X_train_pca.shape[0], 1), 1)), axis=1)\n",
    "p, res, rnk, s = lstsq(np.concatenate((X_train_pca_new, y_train[:,0]), axis=1), y_train[:,1:])\n",
    "X_test_pca_new = np.concatenate((X_test_pca, np.full((X_test_pca.shape[0], 1), 1)), axis=1)\n",
    "predicted_y = np.zeros((y_test.shape[0], 8))\n",
    "for i in range(8):\n",
    "    predicted_y [:,i] = np.matmul(np.concatenate((X_test_pca_new, y_test[:,0]), axis=1), (p[:,i]))\n",
    "print(\"pearson:\",pearsonr(np.array(predicted_y).reshape((-1,)), np.array(y_test[:,1:]).reshape((-1,))))\n",
    "print(\"R2:\",r2_score(predicted_y, y_test[:,1:]))\n",
    "print(\"MSE:\",mean_squared_error(predicted_y, y_test[:,1:]))\n",
    "print(\"MAE:\",mean_absolute_error(predicted_y, y_test[:,1:]))\n",
    "compute_mean_and_std_test (predicted_y, y_test[:,1:])\n",
    "print(\"on train:\")\n",
    "predicted_y_train = np.zeros((y_train.shape[0], 8))\n",
    "for i in range(8):\n",
    "    predicted_y_train [:,i] = np.matmul(np.concatenate((X_train_pca_new, y_train[:,0]), axis=1), (p[:,i]))\n",
    "print(\"pearson:\",pearsonr(np.array(predicted_y_train).reshape((-1,)), np.array(y_train[:,1:]).reshape((-1,))))\n",
    "print(\"R2:\",r2_score(predicted_y_train, y_train[:,1:]))\n",
    "print(\"MSE:\",mean_squared_error(predicted_y_train, y_train[:,1:]))\n",
    "print(\"MAE:\",mean_absolute_error(predicted_y_train, y_train[:,1:]))\n",
    "compute_mean_and_std_test (predicted_y_train, y_train[:,1:])"
   ]
  },
  {
   "cell_type": "code",
   "execution_count": null,
   "metadata": {},
   "outputs": [],
   "source": [
    "from sklearn.decomposition import NMF\n",
    "model = NMF(n_components=400, init='random', random_state=0)\n",
    "W = model.fit_transform(X_train)\n",
    "H = model.components_"
   ]
  },
  {
   "cell_type": "code",
   "execution_count": 54,
   "metadata": {},
   "outputs": [],
   "source": [
    "W_test = model.transform(X_test)"
   ]
  },
  {
   "cell_type": "code",
   "execution_count": 55,
   "metadata": {},
   "outputs": [],
   "source": [
    "p, res, rnk, s = lstsq(np.concatenate((W, y_train[:,0]), axis=1), y_train[:,1:])"
   ]
  },
  {
   "cell_type": "code",
   "execution_count": 56,
   "metadata": {},
   "outputs": [
    {
     "name": "stdout",
     "output_type": "stream",
     "text": [
      "on train:\n",
      "pearson: (0.9428315247841743, 0.0)\n",
      "R2: 0.8455496112226808\n",
      "MSE: 0.6719316970806949\n",
      "MAE: 0.5783206340330033\n"
     ]
    }
   ],
   "source": [
    "predicted_y = np.zeros((y_test.shape[0], 8))\n",
    "for i in range(8):\n",
    "    predicted_y [:,i] = np.matmul(np.concatenate((W_test, y_test[:,0]), axis=1), (p[:,i]))\n",
    "print(\"on train:\")\n",
    "print(\"pearson:\",pearsonr(np.array(predicted_y).reshape((-1,)), np.array(y_test[:,1:]).reshape((-1,))))\n",
    "print(\"R2:\",r2_score(predicted_y, y_test[:,1:]))\n",
    "print(\"MSE:\",mean_squared_error(predicted_y, y_test[:,1:]))\n",
    "print(\"MAE:\",mean_absolute_error(predicted_y, y_test[:,1:]))"
   ]
  },
  {
   "cell_type": "code",
   "execution_count": 57,
   "metadata": {},
   "outputs": [],
   "source": [
    "X_train_NMF_new = np.concatenate((W, np.full((W.shape[0], 1), 1)), axis=1)"
   ]
  },
  {
   "cell_type": "code",
   "execution_count": 58,
   "metadata": {},
   "outputs": [],
   "source": [
    "p, res, rnk, s = lstsq(np.concatenate((X_train_NMF_new, y_train[:,0]), axis=1), y_train[:,1:])"
   ]
  },
  {
   "cell_type": "code",
   "execution_count": 60,
   "metadata": {},
   "outputs": [],
   "source": [
    "X_test_NMF_new = np.concatenate((W_test, np.full((W_test.shape[0], 1), 1)), axis=1)"
   ]
  },
  {
   "cell_type": "code",
   "execution_count": 61,
   "metadata": {},
   "outputs": [
    {
     "name": "stdout",
     "output_type": "stream",
     "text": [
      "on train:\n",
      "pearson: (0.9428150525872895, 0.0)\n",
      "R2: 0.8454968906924489\n",
      "MSE: 0.6721256070293821\n",
      "MAE: 0.5784386355859588\n"
     ]
    }
   ],
   "source": [
    "predicted_y = np.zeros((y_test.shape[0], 8))\n",
    "for i in range(8):\n",
    "    predicted_y [:,i] = np.matmul(np.concatenate((X_test_NMF_new, y_test[:,0]), axis=1), (p[:,i]))\n",
    "print(\"on train:\")\n",
    "print(\"pearson:\",pearsonr(np.array(predicted_y).reshape((-1,)), np.array(y_test[:,1:]).reshape((-1,))))\n",
    "print(\"R2:\",r2_score(predicted_y, y_test[:,1:]))\n",
    "print(\"MSE:\",mean_squared_error(predicted_y, y_test[:,1:]))\n",
    "print(\"MAE:\",mean_absolute_error(predicted_y, y_test[:,1:]))"
   ]
  },
  {
   "cell_type": "code",
   "execution_count": 34,
   "metadata": {},
   "outputs": [
    {
     "data": {
      "text/plain": [
       "2693"
      ]
     },
     "execution_count": 34,
     "metadata": {},
     "output_type": "execute_result"
    }
   ],
   "source": [
    "from numpy.linalg import matrix_rank\n",
    "matrix_rank(X_train) # Full rank matrix"
   ]
  },
  {
   "cell_type": "code",
   "execution_count": null,
   "metadata": {},
   "outputs": [],
   "source": []
  }
 ],
 "metadata": {
  "kernelspec": {
   "display_name": "Python 3",
   "language": "python",
   "name": "python3"
  },
  "language_info": {
   "codemirror_mode": {
    "name": "ipython",
    "version": 3
   },
   "file_extension": ".py",
   "mimetype": "text/x-python",
   "name": "python",
   "nbconvert_exporter": "python",
   "pygments_lexer": "ipython3",
   "version": "3.6.6"
  }
 },
 "nbformat": 4,
 "nbformat_minor": 2
}
